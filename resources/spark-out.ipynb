{
 "cells": [
  {
   "cell_type": "code",
   "execution_count": 3,
   "id": "a1b69970-6b4a-40ed-98b7-c97d80dca9c2",
   "metadata": {
    "execution": {
     "iopub.execute_input": "2024-01-25T12:37:35.746602Z",
     "iopub.status.busy": "2024-01-25T12:37:35.675234Z",
     "iopub.status.idle": "2024-01-25T12:37:38.300255Z",
     "shell.execute_reply": "2024-01-25T12:37:38.298653Z"
    },
    "papermill": {
     "duration": 2.857942,
     "end_time": "2024-01-25T12:37:38.300376",
     "exception": false,
     "start_time": "2024-01-25T12:37:35.442434",
     "status": "completed"
    },
    "tags": []
   },
   "outputs": [
    {
     "data": {
      "text/html": [
       "\n",
       "            <div>\n",
       "                <p><b>SparkSession - hive</b></p>\n",
       "                \n",
       "        <div>\n",
       "            <p><b>SparkContext</b></p>\n",
       "\n",
       "            <p><a href=\"http://gdpic-srvls-session-6bd639d7-2d22-49c6-b2e9-b18301386a02-m.c.pdp-dev-195912.internal:4040\">Spark UI</a></p>\n",
       "\n",
       "            <dl>\n",
       "              <dt>Version</dt>\n",
       "                <dd><code>v3.4.0</code></dd>\n",
       "              <dt>Master</dt>\n",
       "                <dd><code>spark://gdpic-srvls-session-6bd639d7-2d22-49c6-b2e9-b18301386a02-m:7077</code></dd>\n",
       "              <dt>AppName</dt>\n",
       "                <dd><code>PySparkShell</code></dd>\n",
       "            </dl>\n",
       "        </div>\n",
       "        \n",
       "            </div>\n",
       "        "
      ],
      "text/plain": [
       "<pyspark.sql.session.SparkSession at 0x7fb35e0dc910>"
      ]
     },
     "execution_count": 3,
     "metadata": {},
     "output_type": "execute_result"
    }
   ],
   "source": [
    "spark"
   ]
  },
  {
   "cell_type": "code",
   "execution_count": null,
   "id": "539c4ac2-eeac-44b9-9491-25d2cf24be97",
   "metadata": {
    "papermill": {
     "duration": 0.000773,
     "end_time": "2024-01-25T12:37:38.303900",
     "exception": false,
     "start_time": "2024-01-25T12:37:38.303127",
     "status": "completed"
    },
    "tags": []
   },
   "outputs": [],
   "source": []
  }
 ],
 "metadata": {
  "kernelspec": {
   "display_name": "test-papermill on Serverless Spark (Remote)",
   "language": "python",
   "name": "9c39b79e5d2e7072beb4bd59"
  },
  "language_info": {
   "codemirror_mode": {
    "name": "ipython",
    "version": 3
   },
   "file_extension": ".py",
   "mimetype": "text/x-python",
   "name": "python",
   "nbconvert_exporter": "python",
   "pygments_lexer": "ipython3",
   "version": "3.11.0"
  },
  "papermill": {
   "default_parameters": {},
   "duration": 4.74589,
   "end_time": "2024-01-25T12:37:38.554055",
   "environment_variables": {},
   "exception": null,
   "input_path": "./resources/spark.ipynb",
   "output_path": "./resources/spark-out.ipynb",
   "parameters": {},
   "start_time": "2024-01-25T12:37:33.808165",
   "version": "2.5.0"
  },
  "serverless": {
   "kernel_name": "paperless-c5f048b8-b035-4d5b-9e4d-5c6ada7a8088",
   "session_id": "c5f048b8-b035-4d5b-9e4d-5c6ada7a8088",
   "session_template": "projects/pdp-dev-195912/regions/us-central1/sessionTemplates/test-papermill"
  }
 },
 "nbformat": 4,
 "nbformat_minor": 5
}