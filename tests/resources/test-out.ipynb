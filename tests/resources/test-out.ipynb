{
 "cells": [
  {
   "cell_type": "code",
   "execution_count": 1,
   "id": "a1b69970-6b4a-40ed-98b7-c97d80dca9c2",
   "metadata": {
    "execution": {
     "iopub.execute_input": "2024-05-22T13:12:16.782644Z",
     "iopub.status.busy": "2024-05-22T13:12:16.781193Z",
     "iopub.status.idle": "2024-05-22T13:12:16.785515Z",
     "shell.execute_reply": "2024-05-22T13:12:16.785555Z"
    },
    "papermill": {
     "duration": 1.444177,
     "end_time": "2024-05-22T13:12:16.785714",
     "exception": false,
     "start_time": "2024-05-22T13:12:15.341537",
     "status": "completed"
    },
    "tags": []
   },
   "outputs": [
    {
     "name": "stdout",
     "output_type": "stream",
     "text": [
      "1\n"
     ]
    }
   ],
   "source": [
    "print(1)"
   ]
  },
  {
   "cell_type": "code",
   "execution_count": null,
   "id": "539c4ac2-eeac-44b9-9491-25d2cf24be97",
   "metadata": {
    "papermill": {
     "duration": 0.001063,
     "end_time": "2024-05-22T13:12:16.787797",
     "exception": false,
     "start_time": "2024-05-22T13:12:16.786734",
     "status": "completed"
    },
    "tags": []
   },
   "outputs": [],
   "source": []
  }
 ],
 "metadata": {
  "kernelspec": {
   "display_name": "test-papermill on Serverless Spark (Remote)",
   "language": "python",
   "name": "9c39b79e5d2e7072beb4bd59"
  },
  "language_info": {
   "codemirror_mode": {
    "name": "ipython",
    "version": 3
   },
   "file_extension": ".py",
   "mimetype": "text/x-python",
   "name": "python",
   "nbconvert_exporter": "python",
   "pygments_lexer": "ipython3",
   "version": "3.12.3"
  },
  "papermill": {
   "default_parameters": {},
   "duration": 47.787885,
   "end_time": "2024-05-22T13:12:17.882078",
   "environment_variables": {},
   "exception": null,
   "input_path": "./tests/resources/test.ipynb",
   "output_path": "./tests/resources/test-out.ipynb",
   "parameters": {},
   "start_time": "2024-05-22T13:11:30.094193",
   "version": "2.6.0"
  },
  "serverless": {
   "kernel_id_e": "9c39b79e-5d2e-4070-8072-7993bc96508d",
   "kernel_name": "9c39b79e5d2e7072beb4bd59-paperless-interactive",
   "kernel_name_e": null,
   "session_id": "bc235051-88b6-4afc-b477-372c69eab5f1",
   "session_template": "projects/pdp-dev-195912/regions/us-central1/sessionTemplates/test-papermill"
  }
 },
 "nbformat": 4,
 "nbformat_minor": 5
}