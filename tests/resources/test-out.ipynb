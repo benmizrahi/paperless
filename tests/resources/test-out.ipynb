{
 "cells": [
  {
   "cell_type": "code",
   "execution_count": 1,
   "id": "a1b69970-6b4a-40ed-98b7-c97d80dca9c2",
   "metadata": {
    "execution": {
     "iopub.execute_input": "2024-05-27T07:24:18.677416Z",
     "iopub.status.busy": "2024-05-27T07:24:18.629482Z",
     "iopub.status.idle": "2024-05-27T07:24:18.679895Z",
     "shell.execute_reply": "2024-05-27T07:24:18.681392Z"
    },
    "papermill": {
     "duration": 0.300172,
     "end_time": "2024-05-27T07:24:18.681621",
     "exception": false,
     "start_time": "2024-05-27T07:24:18.381449",
     "status": "completed"
    },
    "tags": []
   },
   "outputs": [
    {
     "name": "stdout",
     "output_type": "stream",
     "text": [
      "1\n"
     ]
    }
   ],
   "source": [
    "print(1)"
   ]
  },
  {
   "cell_type": "code",
   "execution_count": null,
   "id": "539c4ac2-eeac-44b9-9491-25d2cf24be97",
   "metadata": {
    "papermill": {
     "duration": 0.001503,
     "end_time": "2024-05-27T07:24:18.685503",
     "exception": false,
     "start_time": "2024-05-27T07:24:18.684000",
     "status": "completed"
    },
    "tags": []
   },
   "outputs": [],
   "source": []
  }
 ],
 "metadata": {
  "kernelspec": {
   "display_name": "test-papermill on Serverless Spark (Remote)",
   "language": "python",
   "name": "9c39b79e5d2e7072beb4bd59"
  },
  "language_info": {
   "codemirror_mode": {
    "name": "ipython",
    "version": 3
   },
   "file_extension": ".py",
   "mimetype": "text/x-python",
   "name": "python",
   "nbconvert_exporter": "python",
   "pygments_lexer": "ipython3",
   "version": "3.12.3"
  },
  "papermill": {
   "default_parameters": {},
   "duration": 168.445192,
   "end_time": "2024-05-27T07:24:18.992583",
   "environment_variables": {},
   "exception": null,
   "input_path": "./tests/resources/test.ipynb",
   "output_path": "./tests/resources/test-out.ipynb",
   "parameters": {},
   "start_time": "2024-05-27T07:21:30.547391",
   "version": "2.6.0"
  },
  "serverless": {
   "kernel_id_e": "9c39b79e-5d2e-4070-8072-2d0076477f78",
   "kernel_name": "9c39b79e5d2e7072beb4bd59-paperless-interactive",
   "kernel_name_e": null,
   "session_id": "eb0fa4cc-9566-4d8a-b210-21736550867b",
   "session_template": "projects/pdp-dev-195912/regions/us-central1/sessionTemplates/paperless-interactive"
  }
 },
 "nbformat": 4,
 "nbformat_minor": 5
}