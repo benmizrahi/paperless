{
 "cells": [
  {
   "cell_type": "code",
   "execution_count": 2,
   "id": "a1b69970-6b4a-40ed-98b7-c97d80dca9c2",
   "metadata": {},
   "outputs": [],
   "source": [
    "print(1)"
   ]
  },
  {
   "cell_type": "code",
   "execution_count": null,
   "id": "539c4ac2-eeac-44b9-9491-25d2cf24be97",
   "metadata": {},
   "outputs": [],
   "source": []
  }
 ],
 "metadata": {
  "kernelspec": {
   "display_name": "test-papermill on Serverless Spark (Remote)",
   "language": "python",
   "name": "9c39b79e5d2e7072beb4bd59"
  },
  "language_info": {
   "codemirror_mode": {
    "name": "ipython",
    "version": 3
   },
   "file_extension": ".py",
   "mimetype": "text/x-python",
   "name": "python",
   "nbconvert_exporter": "python",
   "pygments_lexer": "ipython3",
   "version": "3.11.0"
  },
  "serverless": {
   "kernel_name": "paperless-55ec927c-b75a-47c4-8be1-cd63324eea48",
   "session_id": "55ec927c-b75a-47c4-8be1-cd63324eea48",
   "session_template": "projects/<project>/regions/us-central1/sessionTemplates/test-papermill"
  }
 },
 "nbformat": 4,
 "nbformat_minor": 5
}